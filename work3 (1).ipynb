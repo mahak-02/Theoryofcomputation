{
 "cells": [
  {
   "cell_type": "markdown",
   "metadata": {},
   "source": [
    "Program:WAP in python using stack to show balance parenthesis."
   ]
  },
  {
   "cell_type": "code",
   "execution_count": 1,
   "metadata": {},
   "outputs": [
    {
     "name": "stdin",
     "output_type": "stream",
     "text": [
      "Enter string:  ((()))\n"
     ]
    },
    {
     "name": "stdout",
     "output_type": "stream",
     "text": [
      "[]\n",
      "['(']\n",
      "['(', '(']\n",
      "['(', '(', '(']\n",
      "YES\n"
     ]
    }
   ],
   "source": [
    "class Stack:\n",
    "    def __init__(self):\n",
    "        self.a=[]\n",
    "    def push(self,i):\n",
    "        self.a.append(i)\n",
    "        print(self.a)\n",
    "    def pop(self):\n",
    "        self.a.pop()\n",
    "    def size(self):    \n",
    "        return len(self.a)\n",
    "    def isempty(self):\n",
    "        return len(self.a)==0\n",
    "    def BalanceParenthesis(self):\n",
    "        a = Stack()\n",
    "        b = input(\"Enter string: \")\n",
    "        print(self.a)\n",
    "        for i in b:\n",
    "            if (i=='('):\n",
    "                self.push(i)\n",
    "            elif(i==')'):\n",
    "                self.pop()\n",
    "        if (len(self.a)==0):\n",
    "            print(\"YES\")\n",
    "        else:\n",
    "            print(\"NO\")           \n",
    "s=Stack()\n",
    "s.BalanceParenthesis()"
   ]
  },
  {
   "cell_type": "markdown",
   "metadata": {},
   "source": [
    "Program:WAP in python using stack to show unbalanced parenthesis."
   ]
  },
  {
   "cell_type": "code",
   "execution_count": 2,
   "metadata": {},
   "outputs": [
    {
     "name": "stdin",
     "output_type": "stream",
     "text": [
      "Enter string:  ((())\n"
     ]
    },
    {
     "name": "stdout",
     "output_type": "stream",
     "text": [
      "[]\n",
      "['(']\n",
      "['(', '(']\n",
      "['(', '(', '(']\n",
      "NO\n"
     ]
    }
   ],
   "source": [
    "class Stack:\n",
    "    def __init__(self):\n",
    "        self.a=[]\n",
    "    def push(self,i):\n",
    "        self.a.append(i)\n",
    "        print(self.a)\n",
    "    def pop(self):\n",
    "        self.a.pop()\n",
    "    def size(self):    \n",
    "        return len(self.a)\n",
    "    def isempty(self):\n",
    "        return len(self.a)==0\n",
    "    def BalanceParenthesis(self):\n",
    "        a = Stack()\n",
    "        b = input(\"Enter string: \")\n",
    "        print(self.a)\n",
    "        for i in b:\n",
    "            if (i=='('):\n",
    "                self.push(i)\n",
    "            elif(i==')'):\n",
    "                self.pop()\n",
    "        if (len(self.a)==0):\n",
    "            print(\"YES\")\n",
    "        else:\n",
    "            print(\"NO\")            \n",
    "s=Stack()\n",
    "s.BalanceParenthesis()"
   ]
  },
  {
   "cell_type": "markdown",
   "metadata": {},
   "source": [
    "Program:WAP in python to show basic queue and its operations."
   ]
  },
  {
   "cell_type": "code",
   "execution_count": 3,
   "metadata": {},
   "outputs": [
    {
     "name": "stdout",
     "output_type": "stream",
     "text": [
      "4\n",
      "23\n",
      "3\n"
     ]
    }
   ],
   "source": [
    "class Queue:\n",
    "    def __init__(self):\n",
    "        self.items=[]\n",
    "    def enqueue(self,i):\n",
    "        self.items.append(i)\n",
    "    def delete(self):\n",
    "        return(self.items.pop(0))\n",
    "    def size(self):\n",
    "        return len(self.items)\n",
    "q=Queue();\n",
    "q.enqueue(23)\n",
    "q.enqueue(45)\n",
    "q.enqueue(90)\n",
    "q.enqueue(79)\n",
    "print(q.size())\n",
    "print(q.delete())\n",
    "print(q.size())"
   ]
  },
  {
   "cell_type": "markdown",
   "metadata": {},
   "source": [
    "Program:WAP in python for dequeue with user input."
   ]
  },
  {
   "cell_type": "code",
   "execution_count": 4,
   "metadata": {},
   "outputs": [
    {
     "name": "stdout",
     "output_type": "stream",
     "text": [
      "1.Insert element at front\n",
      "2.Insert element at rear\n",
      "3.Delete element from front\n",
      "4.Delete element from rear\n",
      "5.Show the queue\n",
      "6.Return size of queue\n",
      "7.Exit\n"
     ]
    },
    {
     "name": "stdin",
     "output_type": "stream",
     "text": [
      " 1\n",
      "Enter element: 34\n"
     ]
    },
    {
     "name": "stdout",
     "output_type": "stream",
     "text": [
      "1.Insert element at front\n",
      "2.Insert element at rear\n",
      "3.Delete element from front\n",
      "4.Delete element from rear\n",
      "5.Show the queue\n",
      "6.Return size of queue\n",
      "7.Exit\n"
     ]
    },
    {
     "name": "stdin",
     "output_type": "stream",
     "text": [
      " 1\n",
      "Enter element: 45\n"
     ]
    },
    {
     "name": "stdout",
     "output_type": "stream",
     "text": [
      "1.Insert element at front\n",
      "2.Insert element at rear\n",
      "3.Delete element from front\n",
      "4.Delete element from rear\n",
      "5.Show the queue\n",
      "6.Return size of queue\n",
      "7.Exit\n"
     ]
    },
    {
     "name": "stdin",
     "output_type": "stream",
     "text": [
      " 1\n",
      "Enter element: 78\n"
     ]
    },
    {
     "name": "stdout",
     "output_type": "stream",
     "text": [
      "1.Insert element at front\n",
      "2.Insert element at rear\n",
      "3.Delete element from front\n",
      "4.Delete element from rear\n",
      "5.Show the queue\n",
      "6.Return size of queue\n",
      "7.Exit\n"
     ]
    },
    {
     "name": "stdin",
     "output_type": "stream",
     "text": [
      " 4\n"
     ]
    },
    {
     "name": "stdout",
     "output_type": "stream",
     "text": [
      "1.Insert element at front\n",
      "2.Insert element at rear\n",
      "3.Delete element from front\n",
      "4.Delete element from rear\n",
      "5.Show the queue\n",
      "6.Return size of queue\n",
      "7.Exit\n"
     ]
    },
    {
     "name": "stdin",
     "output_type": "stream",
     "text": [
      " 2\n",
      "Enter element: 65\n"
     ]
    },
    {
     "name": "stdout",
     "output_type": "stream",
     "text": [
      "1.Insert element at front\n",
      "2.Insert element at rear\n",
      "3.Delete element from front\n",
      "4.Delete element from rear\n",
      "5.Show the queue\n",
      "6.Return size of queue\n",
      "7.Exit\n"
     ]
    },
    {
     "name": "stdin",
     "output_type": "stream",
     "text": [
      " 5\n"
     ]
    },
    {
     "name": "stdout",
     "output_type": "stream",
     "text": [
      "[78, 45, 65]\n",
      "1.Insert element at front\n",
      "2.Insert element at rear\n",
      "3.Delete element from front\n",
      "4.Delete element from rear\n",
      "5.Show the queue\n",
      "6.Return size of queue\n",
      "7.Exit\n"
     ]
    },
    {
     "name": "stdin",
     "output_type": "stream",
     "text": [
      " 6\n"
     ]
    },
    {
     "name": "stdout",
     "output_type": "stream",
     "text": [
      "3\n",
      "1.Insert element at front\n",
      "2.Insert element at rear\n",
      "3.Delete element from front\n",
      "4.Delete element from rear\n",
      "5.Show the queue\n",
      "6.Return size of queue\n",
      "7.Exit\n"
     ]
    },
    {
     "name": "stdin",
     "output_type": "stream",
     "text": [
      " 3\n"
     ]
    },
    {
     "name": "stdout",
     "output_type": "stream",
     "text": [
      "1.Insert element at front\n",
      "2.Insert element at rear\n",
      "3.Delete element from front\n",
      "4.Delete element from rear\n",
      "5.Show the queue\n",
      "6.Return size of queue\n",
      "7.Exit\n"
     ]
    },
    {
     "name": "stdin",
     "output_type": "stream",
     "text": [
      " 5\n"
     ]
    },
    {
     "name": "stdout",
     "output_type": "stream",
     "text": [
      "[45, 65]\n",
      "1.Insert element at front\n",
      "2.Insert element at rear\n",
      "3.Delete element from front\n",
      "4.Delete element from rear\n",
      "5.Show the queue\n",
      "6.Return size of queue\n",
      "7.Exit\n"
     ]
    },
    {
     "name": "stdin",
     "output_type": "stream",
     "text": [
      " 4\n"
     ]
    },
    {
     "name": "stdout",
     "output_type": "stream",
     "text": [
      "1.Insert element at front\n",
      "2.Insert element at rear\n",
      "3.Delete element from front\n",
      "4.Delete element from rear\n",
      "5.Show the queue\n",
      "6.Return size of queue\n",
      "7.Exit\n"
     ]
    },
    {
     "name": "stdin",
     "output_type": "stream",
     "text": [
      " 5\n"
     ]
    },
    {
     "name": "stdout",
     "output_type": "stream",
     "text": [
      "[45]\n",
      "1.Insert element at front\n",
      "2.Insert element at rear\n",
      "3.Delete element from front\n",
      "4.Delete element from rear\n",
      "5.Show the queue\n",
      "6.Return size of queue\n",
      "7.Exit\n"
     ]
    },
    {
     "name": "stdin",
     "output_type": "stream",
     "text": [
      " 7\n"
     ]
    }
   ],
   "source": [
    "class deQueue():\n",
    "    def __init__(self):\n",
    "        self.items=[]\n",
    "    def insert_rear(self,item):\n",
    "        self.items.append(item)\n",
    "    def insert_front(self,item):\n",
    "        self.items.insert(0,item)\n",
    "    def delete_rear(self):\n",
    "        self.items.pop()\n",
    "    def delete_front(self):\n",
    "        self.items.pop(0)\n",
    "    def show(self):\n",
    "        print(self.items)\n",
    "    def size(self):\n",
    "        print(len(self.items))\n",
    "d=deQueue()\n",
    "while 1:\n",
    "    print(\"1.Insert element at front\")\n",
    "    print(\"2.Insert element at rear\")\n",
    "    print(\"3.Delete element from front\")\n",
    "    print(\"4.Delete element from rear\")\n",
    "    print(\"5.Show the queue\")\n",
    "    print(\"6.Return size of queue\")\n",
    "    print(\"7.Exit\")\n",
    "    ch=input()\n",
    "    if ch=='1':\n",
    "        element=int(input(\"Enter element:\"))\n",
    "        d.insert_front(element)\n",
    "    elif ch == '2':\n",
    "        element = int(input(\"Enter element:\"))\n",
    "        d.insert_rear(element)\n",
    "    elif ch=='3':\n",
    "        d.delete_front()\n",
    "    elif ch=='4':\n",
    "        d.delete_rear()\n",
    "    elif ch=='5':\n",
    "        d.show()\n",
    "    elif ch=='6':\n",
    "        d.size()\n",
    "    elif ch=='7':\n",
    "        break\n",
    "    else:\n",
    "        print(\"wrong choice\")"
   ]
  },
  {
   "cell_type": "markdown",
   "metadata": {},
   "source": [
    "Program:WAP in python for hetrogenous parenthesis."
   ]
  },
  {
   "cell_type": "code",
   "execution_count": null,
   "metadata": {},
   "outputs": [],
   "source": [
    "class Stack:\n",
    "    def __init__(self):\n",
    "        self.l1 = []\n",
    "        self.l2 = []\n",
    "        self.l3 = []\n",
    " \n",
    "    def is_empty(self):\n",
    "        return (self.l1 == [],self.l2==[],self.l3==[])\n",
    "        \n",
    " \n",
    "    def push(self, x):\n",
    "        self.l1.append(x)\n",
    "        self.l2.append(x)\n",
    "        self.l3.append(x)\n",
    " \n",
    "    def pop(self):\n",
    "        return (self.l1.pop(),self.l2.pop(),self.l3.pop())\n",
    " \n",
    " \n",
    "s = Stack()\n",
    "exp = input('enter the expression: ')\n",
    " \n",
    "for e in exp:\n",
    "    if e == '(':\n",
    "        s.push(11)\n",
    "    elif e == ')':\n",
    "        if s.is_empty():\n",
    "            balanced = False\n",
    "            break\n",
    "        s.pop(l1)\n",
    "    \n",
    "    elif e == '[':\n",
    "        s.push(l2)\n",
    "    elif e == ']':\n",
    "        if s.is_empty():\n",
    "            balanced = False\n",
    "            break\n",
    "        s.pop(l2)\n",
    "    \n",
    "    elif e == '{':\n",
    "        s.push(13)\n",
    "    elif e == '}':\n",
    "        if s.is_empty():\n",
    "            balanced = False\n",
    "            break\n",
    "        s.pop(l3)\n",
    "if s.is_empty():\n",
    "    balanced = True\n",
    "else:\n",
    "    balanced = False\n",
    " \n",
    "if balanced==True:\n",
    "    print('BALANCED')\n",
    "else:\n",
    "    print('UNBALANCED')"
   ]
  },
  {
   "cell_type": "markdown",
   "metadata": {},
   "source": [
    "BALANCED"
   ]
  }
 ],
 "metadata": {
  "kernelspec": {
   "display_name": "Python 3",
   "language": "python",
   "name": "python3"
  },
  "language_info": {
   "codemirror_mode": {
    "name": "ipython",
    "version": 3
   },
   "file_extension": ".py",
   "mimetype": "text/x-python",
   "name": "python",
   "nbconvert_exporter": "python",
   "pygments_lexer": "ipython3",
   "version": "3.7.3"
  }
 },
 "nbformat": 4,
 "nbformat_minor": 4
}
